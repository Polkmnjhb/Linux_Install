{
 "metadata": {
  "name": ""
 },
 "nbformat": 3,
 "nbformat_minor": 0,
 "worksheets": [
  {
   "cells": [
    {
     "cell_type": "markdown",
     "metadata": {},
     "source": [
      "#<font color='red'>\u9019\u662fLINUX\u5b89\u88dd\u6559\u5b78(\u5229\u7528\u865b\u64ec\u6a5f\u5668Oracle VM VirtualBox)</font>"
     ]
    },
    {
     "cell_type": "markdown",
     "metadata": {},
     "source": [
      "###\u5176\u4ed6\u6559\u5b78\u7db2\u7ad9\uff1ahttp://oscarblog.twbbs.org/2011/12/oracle-vm-virtual-box-ubuntu.html"
     ]
    },
    {
     "cell_type": "markdown",
     "metadata": {},
     "source": [
      "#<font color='red'>step1:\u4e0b\u8f09\u8207\u8a2d\u5b9aOracle VM VirtualBox</font>"
     ]
    },
    {
     "cell_type": "markdown",
     "metadata": {},
     "source": [
      "##1-a.\u5b98\u65b9\u7db2\u5740\uff1ahttp://www.oracle.com/technetwork/server-storage/virtualbox/downloads/index.html?ssSourceSiteId=otnjp\n",
      "##1-b.\u6839\u64da\u96fb\u8166\u7684\u4f5c\u696d\u7cfb\u7d71\u5b89\u88dd\uff0c\u5982\u662f Windows 7\u62168\uff0c\u8acb\u9078\u7528 VirtualBox-4.3.12-93733-Win.exe\n",
      "##1-c.\u5b89\u88dd\u5f8c\uff0c\u958b\u555fOracle VM VirtualBox\uff0c\u4e00\u958b\u59cb\u662f\u6c92\u6709\u4efb\u4f55\u4f5c\u696d\u7cfb\u7d71\u7684\n",
      "##1-d.\u5728Oracle VM VirtualBox\u7ba1\u7406\u54e1\u8996\u7a97\u4e2d\uff0c\u9ede\u9078\u65b0\u589e(N)\uff0c\u8f38\u5165\u540d\u7a31\u548c\u8981\u589e\u52a0\u7684\u4f5c\u696d\u7cfb\u7d71\u540d\u7a31\n",
      "##1-e.\u540d\u7a31\u53ef\u96a8\u610f\u8f38\u5165\uff0c\u985e\u578b\u9078\u64c7Linux\uff0c\u7248\u672c\u9078\u64c7Ubuntu(32bit)\n",
      "##1-f.\u63a5\u8457\u8a2d\u5b9a\u6b64\u4f5c\u696d\u7cfb\u7d71\u7684\u8a18\u61b6\u9ad4\u5927\u5c0f(\u6700\u9ad8\u53ea\u80fd\u8a2d\u5b9a\u70ba\u672c\u9ad4\u8a18\u61b6\u9ad4\u76841/3~1/2)\n",
      "##1-g.\u4e0b\u4e00\u6b65\uff0c\u7b2c\u4e00\u6b21\u9700\u5efa\u7acb\u865b\u64ec\u786c\u789f\uff0c\u786c\u789f\u985e\u578b\u9078\u64c7VDI(VirtualBox\u78c1\u789f\u6620\u50cf) \u5373\u53ef\n",
      "##1-h.\u4f9d\u9700\u6c42\u9078\u64c7\u4f7f\u7528\u52d5\u614b\u914d\u7f6e\u6216\u56fa\u5b9a\u5927\u5c0f\uff0c\u5efa\u8b70\u5927\u5c0f\u81f3\u5c118G\u4ee5\u4e0a\n",
      "##1-i.\u5b8c\u6210\u5f8c\uff0c\u525b\u624d\u8a2d\u5b9a\u7684\u4f5c\u696d\u7cfb\u7d71\u6703\u51fa\u73fe\u5728Oracle VM VirtualBox\u7ba1\u7406\u54e1\u8996\u7a97\uff0c\u9023\u9ede\u5169\u4e0b\u555f\u52d5"
     ]
    },
    {
     "cell_type": "markdown",
     "metadata": {},
     "source": [
      "#<font color='red'>step2:\u5728\u865b\u64ec\u6a5f\u5668\u4e0a\u5b89\u88ddLinux</font>"
     ]
    },
    {
     "cell_type": "markdown",
     "metadata": {},
     "source": [
      "##2-a.Ubuntu\u5b98\u65b9\u7db2\u7ad9\uff1ahttp://www.ubuntu-tw.org/modules/tinyd0/\n",
      "##2-b.\u7b2c\u4e00\u6b21\u555f\u52d5\u4f5c\u696d\u7cfb\u7d71\uff0c\u9700\u8981\u6709\u5149\u789f\u5b89\u88dd\u6a94(ISO\u6a94)\n",
      "##2-c.Ubuntu\u5b98\u65b9\u7db2\u7ad9\u6709\u63d0\u4f9b\u6700\u65b0\u7248\u672c\u514d\u8cbb\u4e0b\u8f09(OPEN SOURCE)\n",
      "##2-d.\u767c\u884c\u7248\u9078\u64c7 \u300cUbuntu \u684c\u9762\u7248\u672c\u300d\uff0c\u7248\u672c\u9078\u64c7\u300c14.04 LTS\u300d\uff0c\u96fb\u8166\u67b6\u69cb\u9078\u64c732bit\n",
      "##2-e.\u958b\u555f\u865b\u64ec\u4f5c\u696d\u7cfb\u7d71\uff0c\u7b2c\u4e00\u6b21\u958b\u555f\u6703\u8a62\u554fISO\u6a94\u4f4d\u7f6e\uff0c\u90782-d\u4e0b\u8f09\u7684\u6a94\u6848\n",
      "##2-f.\u7d93\u904e\u4e00\u6bb5\u5b89\u88dd\u8207\u8a2d\u5b9a\uff0cLinux\u7cfb\u7d71\u5c31\u7b97\u662f\u5b8c\u6210\u4e86"
     ]
    },
    {
     "cell_type": "markdown",
     "metadata": {},
     "source": [
      "#<font color='red'>step3:\u5728Linux\u4e0a\u5b89\u88ddpython\uff0cIpython\u548cIpython-notebook</font> "
     ]
    },
    {
     "cell_type": "markdown",
     "metadata": {},
     "source": [
      "##3-a.\u6309\u4e0bCTRL+SHIFT+T\u53ef\u4ee5\u53eb\u51fa\u547d\u4ee4\u8996\u7a97(Terminal \u7d42\u7aef\u6a5f)\n",
      "##3-b.\u7d42\u7aef\u6a5f\u6703\u51fa\u73fe\u5728\u5de6\u65b9\u5de5\u5177\u5217\uff0c\u6309\u4e0b\u6ed1\u9f20\u53f3\u9375\u53ef\u91d8\u9078\u5728\u5de5\u5177\u5217\n",
      "##3-c.\u6253\u958b\u7d42\u7aef\u6a5f\uff0c\u4ee5\u4e0b\u662f\u4e00\u4e9b\u6307\u4ee4\uff0c\u6307\u4ee4\u6703\u5728\u7576\u524d\u4f4d\u7f6e\u4f5c\u7528\n",
      "##3-c-1.\u8f38\u5165\u300cls\u300d (list\u4e4b\u610f)\uff0c\u5217\u51fa\u76ee\u524d\u6240\u5728\u4f4d\u7f6e\u7684\u6a94\u6848\u5217\u8868\n",
      "##3-c-2.\u8f38\u5165\u300ccd \u8cc7\u6599\u593e\u540d\u7a31\u300d\uff0c\u8f49\u63db\u7576\u524d\u4f4d\u7f6e(\u9810\u8a2d\u4f4d\u7f6e\u662f\u5bb6\u76ee\u9304)\n",
      "##3-c-3.\u8f38\u5165\u300ccd -\u300d\uff0c\u56de\u5230\u524d\u4e00\u500b\u4f4d\u7f6e\u3002\n",
      "##3-c-4.\u8f38\u5165\u300ccd ..\u300d\uff0c\u56de\u5230\u4e0a\u4e00\u5c64\u3002\n",
      "##3-c-5.\u8f38\u5165\u300cpython\u300d\uff0c\u53ef\u986f\u793a\u76ee\u524dpython\u7248\u672c\uff0c\u82e5\u7121\u51fa\u73fe\u8868\u793a\u672a\u5b89\u88dd\uff0c\u8f38\u5165exit()\u53ef\u96e2\u958bpython\u7a0b\u5e8f\n",
      "##3-c-6.\u8f38\u5165\u300csudo apt-get install python\u300d\uff0c\u7cfb\u7d71\u6703\u81ea\u52d5\u5b89\u88ddpython\uff0c\u5b89\u88dd\u4e2d\u53ef\u80fd\u6703\u8981\u6c42\u8f38\u5165\u4f7f\u7528\u8005\u5bc6\u78bc\n",
      "##3-c-7.\u8f38\u5165\u300cipython\u300d\uff0c\u53ef\u986f\u793a\u76ee\u524dipython\u7248\u672c\uff0c\u82e5\u7121\u51fa\u73fe\u8868\u793a\u672a\u5b89\u88dd\uff0c\u8f38\u5165exit\u53ef\u96e2\u958bipython\u7a0b\u5e8f\n",
      "##3-c-8.\u8f38\u5165\u300csudo apt-get install ipython python-setuptools\u300d\uff0c\u7cfb\u7d71\u6703\u81ea\u52d5\u5b89\u88ddipython\n",
      "##3-c-9.\u8f38\u5165\u300cipython notebook\u300d\uff0c\u53ef\u958b\u555fipython\u7de8\u8f2f\u5668\uff0c\u82e5\u7121\u51fa\u73fe\u8868\u793a\u672a\u5b89\u88dd\uff0c\u6309\u4e0bCTRL+C\u53ef\u96e2\u958b\u7a0b\u5e8f\n",
      "##3-c-10.\u8f38\u5165\u300csudo apt-get install ipython-notebook\u300d\uff0c\u5b89\u88ddipython-notebook\n",
      "##3-d.\u5b89\u88dd\u6c34\u87d2(Anaconda)\uff0c\u6c34\u87d2\u96c6\u5408\u6578\u500b\u79d1\u5b78\u8a08\u7b97\u5e38\u7528\u5957\u4ef6\uff0c\u5982Matplotlib,Numpy,SciPy,Panda\u7b49\n",
      "##3-d-1.\u6c34\u87d2\u5b98\u7db2\u8f09\u9ede\uff1ahttp://continuum.io/downloads\n",
      "##3-d-2.\u4e00\u822c\u60c5\u6cc1\u4e0b\uff0c\u8acb\u9078\u64c7Linux 32-bit \u4e0b\u8f09\uff0c\u5426\u5247\u8acb\u6839\u64da\u4f5c\u696d\u7cfb\u7d71\u9078\u64c7\u3002\n",
      "##3-d-3.\u82e5\u4f60\u4e0b\u8f09\u6a94\u540d\u662f\u300cAnaconda-1.9.1-Linux-x86_64.sh\u300d\uff0c\u8acb\u8f38\u5165\u300cbash Anaconda-1.9.1-Linux-x86_64.sh\u300d\u5b89\u88dd\n",
      "##3-d-4.\u5b89\u88dd\u5b8c\u5f8c\uff0c\u5bb6\u76ee\u9304\u6703\u51fa\u73fe\u4e00\u500b\u300canaconda\u300d\u65b0\u8cc7\u6599\u593e\n",
      "##3-d-5.\u63a5\u8457\u8981\u6307\u5b9a\u8def\u5f91\uff0c\u8f38\u5165\u300cexport PATH=~/anaconda/bin:$PATH\u300d\u3002\n",
      "##3-e.\u9019\u6a23\u5c31\u7b97\u662f\u5b89\u88dd\u5b8c\u6210\u4e86"
     ]
    },
    {
     "cell_type": "markdown",
     "metadata": {},
     "source": [
      "#<font color='red'>step4:\u4f7f\u7528Ipython-notebook</font> "
     ]
    },
    {
     "cell_type": "markdown",
     "metadata": {},
     "source": [
      "##4-a.\u5728\u5bb6\u76ee\u9304\u4e2d\u5efa\u7acb\u4e00\u500b\u65b0\u8cc7\u6599\u593e\uff0c\u547d\u540d\u70ba\u300cNote\u300d\u3002\n",
      "##4-b.\u5728\u7d42\u7aef\u6a5f\u4e2d\uff0c\u8f38\u5165\u300ccd Note\u300d\uff0c\u63a5\u8457\u8f38\u5165\u300cipython notebook\u300d\u3002\n",
      "##4-c.\u6703\u81ea\u52d5\u958b\u555f\u4e00\u500b\u540d\u70ba\u300cIpython Dashboard\u300d\u7684\u5206\u9801\uff0c\u9ede\u9078\u53f3\u4e0a\u89d2\u300cNew Notebook\u300d\u5275\u5efa\u65b0\u6a94\u6848\u3002\n",
      "##4-d.Ipython notebook\u662f\u4ee5cell\u70ba\u55ae\u4f4d\u7d44\u6210\u7684\uff0ccell\u7684\u683c\u5f0f\u6709\u300cCode\u300d\u3001\u300cMarkdown\u300d\u3001\u300cRaw Text\u300d\n",
      "##4-e.\u5728Code\u6a21\u5f0f\uff0c\u53ef\u4ee5\u5c0e\u5165sympy\u7b49\u51fd\u5f0f\u5eab\uff0c\u6309\u4e0bshift+Enter\u57f7\u884c\uff0c\u4ee5\u4e0b\u662f\u4e00\u500b\u7bc4\u4f8b\u3002"
     ]
    },
    {
     "cell_type": "code",
     "collapsed": false,
     "input": [
      "#\u5f15\u5165\u5fc5\u8981\u6a21\u7d44\n",
      "from scipy.integrate import odeint\n",
      "import matplotlib.pyplot as plt\n",
      "import numpy as np\n",
      "%matplotlib inline"
     ],
     "language": "python",
     "metadata": {},
     "outputs": [],
     "prompt_number": 1
    },
    {
     "cell_type": "markdown",
     "metadata": {},
     "source": [
      "##4-f.\u5728Markdown\u6a21\u5f0f\u4e0b\u53ef\u4ee5\u4f7f\u7528LaTex\n",
      "##EX.\u4f86\u6bb5\u7a4d\u5206 $\\int_a^b f(x) \\, dx$\n",
      "##LaTex\u76f8\u95dc\u6559\u5b78: http://www.cs.nthu.edu.tw/~cherung/teaching/2009cs5321/link/latex.pdf\n",
      "##4-g.\u82e5\u51fa\u73fe\"No modules\"\u932f\u8aa4\uff0c\u8acb\u5728\u7d42\u7aef\u6a5f\u8f38\u5165\u300csudo apt-get install python-numpy python-scipy python-matplotlib ipython ipython-notebook python-pandas python-sympy python-nose\u300d\uff0c\u5b89\u88dd\u5b8c\u6574\u7a0b\u5e8f\u3002"
     ]
    },
    {
     "cell_type": "code",
     "collapsed": false,
     "input": [],
     "language": "python",
     "metadata": {},
     "outputs": []
    }
   ],
   "metadata": {}
  }
 ]
}